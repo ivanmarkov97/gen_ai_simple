{
  "nbformat": 4,
  "nbformat_minor": 0,
  "metadata": {
    "colab": {
      "provenance": []
    },
    "kernelspec": {
      "name": "python3",
      "display_name": "Python 3"
    },
    "language_info": {
      "name": "python"
    }
  },
  "cells": [
    {
      "cell_type": "code",
      "execution_count": 1,
      "metadata": {
        "id": "sYBDKTax3w3G"
      },
      "outputs": [],
      "source": [
        "import typing as t\n",
        "\n",
        "import torch\n",
        "import torch.nn as nn\n",
        "from torch.utils.data import DataLoader\n",
        "\n",
        "from matplotlib import pyplot as plt"
      ]
    },
    {
      "cell_type": "code",
      "source": [
        "torch.manual_seed(0)"
      ],
      "metadata": {
        "colab": {
          "base_uri": "https://localhost:8080/"
        },
        "id": "7oDXqIxz35sU",
        "outputId": "131365af-8355-4ef0-f7da-daddf9498bb5"
      },
      "execution_count": 2,
      "outputs": [
        {
          "output_type": "execute_result",
          "data": {
            "text/plain": [
              "<torch._C.Generator at 0x79b530371510>"
            ]
          },
          "metadata": {},
          "execution_count": 2
        }
      ]
    },
    {
      "cell_type": "code",
      "source": [
        "def generate_true_sequence() -> torch.tensor:\n",
        "  # generates sequence of 10 number multiple by 5 from [0, 100]\n",
        "  return torch.randint(0, 20, size=(10,)) * 5"
      ],
      "metadata": {
        "id": "POLGpJY037Vq"
      },
      "execution_count": 60,
      "outputs": []
    },
    {
      "cell_type": "code",
      "source": [
        "def one_hot_encoder(number: int) -> list[int]:\n",
        "  one_hot_vector = [0] * 100\n",
        "  one_hot_vector[number] = 1\n",
        "  return one_hot_vector"
      ],
      "metadata": {
        "id": "ty7F5c-Wgyzr"
      },
      "execution_count": 89,
      "outputs": []
    },
    {
      "cell_type": "code",
      "source": [
        "def generate_true_sequence_one_hot(size: int = 1) -> torch.tensor:\n",
        "  one_hot_vectors = []\n",
        "  for _ in range(size):\n",
        "    batch_sequence = generate_true_sequence()\n",
        "    one_hot_vectors.append([one_hot_encoder(number) for number in batch_sequence])\n",
        "  return torch.tensor(one_hot_vectors)"
      ],
      "metadata": {
        "id": "38wS-NP-bWAc"
      },
      "execution_count": 98,
      "outputs": []
    },
    {
      "cell_type": "code",
      "source": [
        "def create_discriminator() -> nn.Module:\n",
        "  # creates discriminator network\n",
        "  return nn.Sequential(\n",
        "      nn.Linear(100, 256),\n",
        "      nn.ReLU(),\n",
        "      nn.Dropout(0.2),\n",
        "      nn.Linear(256, 1),\n",
        "      nn.Sigmoid()\n",
        "  )\n",
        "\n",
        "def create_generator() -> nn.Module:\n",
        "  # creates generator network\n",
        "  return nn.Sequential(\n",
        "      nn.Linear(100, 100)\n",
        "  )"
      ],
      "metadata": {
        "id": "BCBW2n8Mdned"
      },
      "execution_count": 177,
      "outputs": []
    },
    {
      "cell_type": "code",
      "source": [
        "def select_device() -> str:\n",
        "  return 'cuda' if torch.cuda.is_available() else 'cpu'"
      ],
      "metadata": {
        "id": "jewnCYGUeCBr"
      },
      "execution_count": 178,
      "outputs": []
    },
    {
      "cell_type": "code",
      "source": [
        "# TRAIN DISCRIMINATOR\n",
        "\n",
        "def train_dis_on_real_batch(\n",
        "    model: nn.Module,\n",
        "    opt: torch.optim.Optimizer,\n",
        "    loss_fn: t.Callable,\n",
        "    real_batch: torch.tensor,\n",
        "    device: str\n",
        "  ) -> float:\n",
        "\n",
        "  batch_size = real_batch.shape[0]\n",
        "  real_samples = real_batch.float().to(device)\n",
        "  real_samples = real_samples.view(-1, 100)\n",
        "  opt.zero_grad()\n",
        "\n",
        "  output = model(real_samples)\n",
        "  # print('Real samples', real_samples.shape, 'output', output.shape)\n",
        "  true_labels = torch.ones((batch_size, 10, 1), device=device).view(-1, 1)\n",
        "  loss = loss_fn(output, true_labels)\n",
        "  loss.backward()\n",
        "\n",
        "  loss_value = loss.detach().cpu().item()\n",
        "\n",
        "  opt.step()\n",
        "  return loss_value\n",
        "\n",
        "\n",
        "def train_dis_on_fake_batch(\n",
        "    model: nn.Module,\n",
        "    fake_creator: nn.Module,\n",
        "    opt: torch.optim.Optimizer,\n",
        "    loss_fn: t.Callable,\n",
        "    batch_size: int,\n",
        "    device: str\n",
        ") -> float:\n",
        "\n",
        "  noize = torch.rand((batch_size, 10, 100)).view(-1, 100)\n",
        "  noize = noize.to(device)\n",
        "  fake_output = fake_creator(noize)\n",
        "\n",
        "  opt.zero_grad()\n",
        "\n",
        "  output = model(fake_output)\n",
        "  true_labels = torch.zeros((batch_size, 10, 1), device=device).view(-1, 1)\n",
        "  loss = loss_fn(output, true_labels)\n",
        "  loss.backward()\n",
        "\n",
        "  loss_value = loss.detach().cpu().item()\n",
        "\n",
        "  opt.step()\n",
        "  return loss_value"
      ],
      "metadata": {
        "id": "-wsGh3kNeINC"
      },
      "execution_count": 179,
      "outputs": []
    },
    {
      "cell_type": "code",
      "source": [
        "# TRAIN GENERATOR\n",
        "\n",
        "def train_gen(\n",
        "    model: nn.Module,\n",
        "    dis: nn.Module,\n",
        "    opt: torch.optim.Optimizer,\n",
        "    loss_fn: t.Callable,\n",
        "    batch_size: int,\n",
        "    device: str\n",
        ") -> float:\n",
        "\n",
        "  noize = torch.rand((batch_size, 10, 100))\n",
        "  noize = noize.to(device)\n",
        "  opt.zero_grad()\n",
        "\n",
        "  fake_output = model(noize).view(-1, 100)\n",
        "  dis_detections = dis(fake_output).view(-1, 1)\n",
        "  true_labels = torch.ones((batch_size, 10, 1), device=device).view(-1, 1)\n",
        "  loss = loss_fn(dis_detections, true_labels)\n",
        "  loss.backward()\n",
        "\n",
        "  loss_value = loss.detach().cpu().item()\n",
        "\n",
        "  opt.step()\n",
        "  return loss_value"
      ],
      "metadata": {
        "id": "rrGEqJ7oeNjr"
      },
      "execution_count": 180,
      "outputs": []
    },
    {
      "cell_type": "code",
      "source": [
        "# USING GENERATOR\n",
        "\n",
        "def generate(model: nn.Module, batch_size: int, device: str) -> torch.tensor:\n",
        "  with torch.no_grad():\n",
        "    noize = torch.rand((batch_size, 10, 100)).view(-1, 100)\n",
        "    # print(noize.shape)\n",
        "    noize = noize.to(device)\n",
        "    gen_output = model(noize)\n",
        "    gen_output = gen_output.detach().cpu()\n",
        "  return gen_output"
      ],
      "metadata": {
        "id": "yjwR3o4PeUq1"
      },
      "execution_count": 181,
      "outputs": []
    },
    {
      "cell_type": "code",
      "source": [
        "def train_epoch(\n",
        "    dis: nn.Module,\n",
        "    gen: nn.Module,\n",
        "    loader: DataLoader,\n",
        "    loss_fn: t.Callable,\n",
        "    dis_opt: torch.optim.Optimizer,\n",
        "    gen_opt: torch.optim.Optimizer,\n",
        "    device: str\n",
        ") -> t.Tuple[float, float]:\n",
        "\n",
        "  dis_epoch_loss = 0\n",
        "  gen_epoch_loss = 0\n",
        "\n",
        "  for batch in loader:\n",
        "    dis_true_loss = train_dis_on_real_batch(\n",
        "        model=dis,\n",
        "        opt=dis_opt,\n",
        "        loss_fn=loss_fn,\n",
        "        real_batch=batch,\n",
        "        device=device\n",
        "    )\n",
        "    dis_fake_loss = train_dis_on_fake_batch(\n",
        "        model=dis,\n",
        "        fake_creator=gen,\n",
        "        opt=dis_opt,\n",
        "        loss_fn=loss_fn,\n",
        "        batch_size=batch.shape[0],\n",
        "        device=device\n",
        "    )\n",
        "    gen_loss = train_gen(\n",
        "        model=gen,\n",
        "        dis=dis,\n",
        "        opt=gen_opt,\n",
        "        loss_fn=loss_fn,\n",
        "        batch_size=batch.shape[0],\n",
        "        device=device\n",
        "    )\n",
        "\n",
        "    dis_epoch_loss += (dis_true_loss + gen_epoch_loss) / 2\n",
        "    gen_epoch_loss += gen_loss\n",
        "\n",
        "  dis_epoch_loss = dis_epoch_loss / len(loader)\n",
        "  gen_epoch_loss = gen_epoch_loss / len(loader)\n",
        "\n",
        "  return dis_epoch_loss, gen_epoch_loss"
      ],
      "metadata": {
        "id": "dGFtkx1LeXvp"
      },
      "execution_count": 182,
      "outputs": []
    },
    {
      "cell_type": "code",
      "source": [
        "BATCH_SIZE = 10\n",
        "observed_data = generate_true_sequence_one_hot(size=1_000)\n",
        "loader = DataLoader(observed_data, batch_size=BATCH_SIZE, shuffle=True)"
      ],
      "metadata": {
        "id": "nn3ZX96XebvJ"
      },
      "execution_count": 202,
      "outputs": []
    },
    {
      "cell_type": "code",
      "source": [
        "device = select_device()\n",
        "learning_rate = 0.00005\n",
        "\n",
        "loss_function = nn.BCELoss().to(device)\n",
        "gen = create_generator().to(device)\n",
        "dis = create_discriminator().to(device)\n",
        "\n",
        "gen_optimizer = torch.optim.Adam(gen.parameters(), lr=learning_rate)\n",
        "dis_optimizer = torch.optim.Adam(dis.parameters(), lr=learning_rate)"
      ],
      "metadata": {
        "id": "_MBeI7sheZvU"
      },
      "execution_count": 203,
      "outputs": []
    },
    {
      "cell_type": "code",
      "source": [
        "N_EPOCHS = 35\n",
        "\n",
        "dis_losses = []\n",
        "gen_losses = []\n",
        "\n",
        "for e in range(N_EPOCHS):\n",
        "\n",
        "  dis_epoch_loss, gen_epoch_loss = train_epoch(\n",
        "      dis=dis,\n",
        "      gen=gen,\n",
        "      loader=loader,\n",
        "      loss_fn=loss_function,\n",
        "      dis_opt=dis_optimizer,\n",
        "      gen_opt=gen_optimizer,\n",
        "      device=device\n",
        "  )\n",
        "\n",
        "  dis_losses.append(dis_epoch_loss)\n",
        "  gen_losses.append(gen_epoch_loss)\n",
        "\n",
        "  print('Epoch', e, 'Dis loss', dis_epoch_loss, '\\t', 'Gen loss', gen_epoch_loss)\n",
        "  generated_data = generate(model=gen, batch_size=1, device=device)\n",
        "  print(generated_data.shape)\n",
        "  print(generated_data.argmax(dim=-1))\n",
        "  print('finished epoch', e)"
      ],
      "metadata": {
        "colab": {
          "base_uri": "https://localhost:8080/"
        },
        "id": "Frc-7FIEe2X8",
        "outputId": "913b8fa6-138e-4d6d-cb6b-9f9db816d10e"
      },
      "execution_count": 204,
      "outputs": [
        {
          "output_type": "stream",
          "name": "stdout",
          "text": [
            "Epoch 0 Dis loss 18.558720416128637 \t Gen loss 0.759133243560791\n",
            "torch.Size([10, 100])\n",
            "tensor([71, 71, 71, 22, 71, 71, 71, 71, 71, 71])\n",
            "finished epoch 0\n",
            "Epoch 1 Dis loss 20.483225739896298 \t Gen loss 0.8067144000530243\n",
            "torch.Size([10, 100])\n",
            "tensor([71, 71, 71, 71, 71, 71, 47, 22, 71, 71])\n",
            "finished epoch 1\n",
            "Epoch 2 Dis loss 19.032508605122565 \t Gen loss 0.7493615740537644\n",
            "torch.Size([10, 100])\n",
            "tensor([97, 24, 24, 71, 71, 85, 60, 95, 40, 71])\n",
            "finished epoch 2\n",
            "Epoch 3 Dis loss 18.974285703599453 \t Gen loss 0.7575679790973663\n",
            "torch.Size([10, 100])\n",
            "tensor([35, 65, 70, 70,  5, 70, 97, 35, 87, 70])\n",
            "finished epoch 3\n",
            "Epoch 4 Dis loss 18.71216865390539 \t Gen loss 0.7429688173532486\n",
            "torch.Size([10, 100])\n",
            "tensor([87, 17, 70, 81, 50, 78, 70, 81, 81, 39])\n",
            "finished epoch 4\n",
            "Epoch 5 Dis loss 18.97916727781296 \t Gen loss 0.7550862389802933\n",
            "torch.Size([10, 100])\n",
            "tensor([17, 17, 39, 17, 25, 87, 45, 25, 45, 17])\n",
            "finished epoch 5\n",
            "Epoch 6 Dis loss 19.106735353469848 \t Gen loss 0.7579658019542694\n",
            "torch.Size([10, 100])\n",
            "tensor([17, 17, 17, 17, 73,  1, 15, 90, 17, 90])\n",
            "finished epoch 6\n",
            "Epoch 7 Dis loss 19.954938979148864 \t Gen loss 0.8025155055522919\n",
            "torch.Size([10, 100])\n",
            "tensor([29, 17, 89,  0, 85, 17, 29, 85,  0, 89])\n",
            "finished epoch 7\n",
            "Epoch 8 Dis loss 20.59601141780615 \t Gen loss 0.8156112641096115\n",
            "torch.Size([10, 100])\n",
            "tensor([85, 44, 50,  6, 89, 20, 30, 27, 93, 17])\n",
            "finished epoch 8\n",
            "Epoch 9 Dis loss 20.37468375593424 \t Gen loss 0.8047755020856857\n",
            "torch.Size([10, 100])\n",
            "tensor([35, 30, 22, 62, 30, 34, 89, 19, 14,  9])\n",
            "finished epoch 9\n",
            "Epoch 10 Dis loss 20.12118128478527 \t Gen loss 0.802885783314705\n",
            "torch.Size([10, 100])\n",
            "tensor([ 0, 55, 50, 71, 40,  0, 70, 69, 55, 48])\n",
            "finished epoch 10\n",
            "Epoch 11 Dis loss 20.27968002229929 \t Gen loss 0.80257652759552\n",
            "torch.Size([10, 100])\n",
            "tensor([25, 97, 76,  9, 71, 69, 47, 29, 45, 95])\n",
            "finished epoch 11\n",
            "Epoch 12 Dis loss 20.80568378776312 \t Gen loss 0.8264941853284836\n",
            "torch.Size([10, 100])\n",
            "tensor([45, 66, 59, 36, 91, 20, 60, 91, 31,  1])\n",
            "finished epoch 12\n",
            "Epoch 13 Dis loss 20.648713079690932 \t Gen loss 0.8290438324213028\n",
            "torch.Size([10, 100])\n",
            "tensor([30, 55, 40, 30, 40, 65, 55, 42, 39, 30])\n",
            "finished epoch 13\n",
            "Epoch 14 Dis loss 21.211793433129788 \t Gen loss 0.8405138671398162\n",
            "torch.Size([10, 100])\n",
            "tensor([55,  5,  5, 35,  0, 51, 35, 96, 95, 55])\n",
            "finished epoch 14\n",
            "Epoch 15 Dis loss 21.429139976799487 \t Gen loss 0.8549151170253754\n",
            "torch.Size([10, 100])\n",
            "tensor([60, 97, 84, 74, 66, 91, 64, 99, 31, 70])\n",
            "finished epoch 15\n",
            "Epoch 16 Dis loss 21.66334908246994 \t Gen loss 0.8595927679538726\n",
            "torch.Size([10, 100])\n",
            "tensor([93, 63, 90, 65, 90, 80, 15, 15, 90, 44])\n",
            "finished epoch 16\n",
            "Epoch 17 Dis loss 22.362769827246666 \t Gen loss 0.8891485178470612\n",
            "torch.Size([10, 100])\n",
            "tensor([33, 73, 24,  0, 65, 40, 20, 65, 37, 65])\n",
            "finished epoch 17\n",
            "Epoch 18 Dis loss 21.71219008743763 \t Gen loss 0.8714270704984665\n",
            "torch.Size([10, 100])\n",
            "tensor([24, 50, 55,  0, 55, 30, 55,  0, 34, 83])\n",
            "finished epoch 18\n",
            "Epoch 19 Dis loss 22.96592812627554 \t Gen loss 0.9106735068559647\n",
            "torch.Size([10, 100])\n",
            "tensor([12, 75, 58, 90, 47, 50, 15, 95, 32, 50])\n",
            "finished epoch 19\n",
            "Epoch 20 Dis loss 23.106455630660058 \t Gen loss 0.9176036804914475\n",
            "torch.Size([10, 100])\n",
            "tensor([70, 41, 86, 92, 80, 92, 90, 99, 90, 48])\n",
            "finished epoch 20\n",
            "Epoch 21 Dis loss 22.825802856385707 \t Gen loss 0.9199428629875183\n",
            "torch.Size([10, 100])\n",
            "tensor([80, 40, 80, 40, 40, 80, 65, 80,  2, 85])\n",
            "finished epoch 21\n",
            "Epoch 22 Dis loss 24.012758234739305 \t Gen loss 0.9582741850614548\n",
            "torch.Size([10, 100])\n",
            "tensor([ 0, 25, 95, 60, 60, 25, 30, 86, 40,  0])\n",
            "finished epoch 22\n",
            "Epoch 23 Dis loss 23.39995429009199 \t Gen loss 0.9356333404779434\n",
            "torch.Size([10, 100])\n",
            "tensor([20, 20, 22, 25, 25, 75, 34, 33, 75, 75])\n",
            "finished epoch 23\n",
            "Epoch 24 Dis loss 24.450299420952796 \t Gen loss 0.9832161694765091\n",
            "torch.Size([10, 100])\n",
            "tensor([59, 51, 70,  0, 72, 75, 90, 90, 89, 75])\n",
            "finished epoch 24\n",
            "Epoch 25 Dis loss 24.39315209031105 \t Gen loss 0.9672893160581588\n",
            "torch.Size([10, 100])\n",
            "tensor([60, 60, 39, 60, 41, 60, 60, 31, 60, 40])\n",
            "finished epoch 25\n",
            "Epoch 26 Dis loss 24.39137510150671 \t Gen loss 0.9758007049560546\n",
            "torch.Size([10, 100])\n",
            "tensor([35, 95, 80, 80, 80, 95, 85, 65, 57, 80])\n",
            "finished epoch 26\n",
            "Epoch 27 Dis loss 25.51675619095564 \t Gen loss 1.0084620887041091\n",
            "torch.Size([10, 100])\n",
            "tensor([33, 10, 50, 90, 45, 45,  5, 24, 45, 77])\n",
            "finished epoch 27\n",
            "Epoch 28 Dis loss 24.330132607519626 \t Gen loss 0.9851546323299408\n",
            "torch.Size([10, 100])\n",
            "tensor([27, 30, 30, 75, 30, 30, 30, 77, 70, 30])\n",
            "finished epoch 28\n",
            "Epoch 29 Dis loss 25.593766513168813 \t Gen loss 1.0204473167657853\n",
            "torch.Size([10, 100])\n",
            "tensor([35, 85, 65, 35, 36, 35, 35, 60, 35, 35])\n",
            "finished epoch 29\n",
            "Epoch 30 Dis loss 24.844799535274504 \t Gen loss 0.9997553735971451\n",
            "torch.Size([10, 100])\n",
            "tensor([60, 87,  5, 60,  5, 60, 60,  5, 90, 60])\n",
            "finished epoch 30\n",
            "Epoch 31 Dis loss 25.324029778838156 \t Gen loss 1.0214769846200944\n",
            "torch.Size([10, 100])\n",
            "tensor([33, 60, 70, 40, 40, 70, 40, 40, 70, 65])\n",
            "finished epoch 31\n",
            "Epoch 32 Dis loss 25.649521112143994 \t Gen loss 1.026087429523468\n",
            "torch.Size([10, 100])\n",
            "tensor([30,  0, 25,  0, 15, 15, 15, 15, 65, 15])\n",
            "finished epoch 32\n",
            "Epoch 33 Dis loss 25.644272145032883 \t Gen loss 1.022126539349556\n",
            "torch.Size([10, 100])\n",
            "tensor([10, 10, 10, 10, 35,  5, 10, 10, 10, 30])\n",
            "finished epoch 33\n",
            "Epoch 34 Dis loss 26.066272011995316 \t Gen loss 1.0436025381088256\n",
            "torch.Size([10, 100])\n",
            "tensor([55,  0, 35, 45, 70, 20, 40, 20, 40, 20])\n",
            "finished epoch 34\n"
          ]
        }
      ]
    },
    {
      "cell_type": "code",
      "source": [
        "plt.yscale('log')\n",
        "plt.plot(range(N_EPOCHS), dis_losses, label='Dis loss')\n",
        "plt.plot(range(N_EPOCHS), gen_losses, label='Gen loss')\n",
        "plt.xlabel('Epoch')\n",
        "plt.ylabel('Loss')\n",
        "plt.legend()\n",
        "plt.grid(True)\n",
        "plt.show()"
      ],
      "metadata": {
        "colab": {
          "base_uri": "https://localhost:8080/",
          "height": 449
        },
        "id": "lWXvYKo8rxne",
        "outputId": "82cb0ed7-48dc-4f32-bd74-91dd7c40192e"
      },
      "execution_count": 205,
      "outputs": [
        {
          "output_type": "display_data",
          "data": {
            "text/plain": [
              "<Figure size 640x480 with 1 Axes>"
            ],
            "image/png": "[encoded data removed]"
          },
          "metadata": {}
        }
      ]
    },
    {
      "cell_type": "code",
      "source": [],
      "metadata": {
        "id": "EDJYhzLnfBvU"
      },
      "execution_count": null,
      "outputs": []
    }
  ]
}